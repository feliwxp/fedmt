{
 "cells": [
  {
   "cell_type": "code",
   "execution_count": 2,
   "metadata": {},
   "outputs": [],
   "source": [
    "from collections import Counter\n",
    "\n",
    "x = {'both1':1, 'both2':2, 'only_x': 100 }\n",
    "y = {'both1':10, 'both2': 20, 'only_x':200 }\n",
    "\n",
    "z = dict(Counter(x)+Counter(y))"
   ]
  },
  {
   "cell_type": "code",
   "execution_count": 3,
   "metadata": {},
   "outputs": [
    {
     "data": {
      "text/plain": [
       "Counter({'both1': 1, 'both2': 2, 'only_x': 100})"
      ]
     },
     "execution_count": 3,
     "metadata": {},
     "output_type": "execute_result"
    }
   ],
   "source": [
    "Counter(x)"
   ]
  },
  {
   "cell_type": "code",
   "execution_count": 4,
   "metadata": {},
   "outputs": [
    {
     "name": "stdout",
     "output_type": "stream",
     "text": [
      "both1 -> 1\n",
      "both1 -> 10\n",
      "both2 -> 2\n",
      "both2 -> 20\n",
      "only_x -> 100\n",
      "only_x -> 200\n"
     ]
    }
   ],
   "source": [
    "for (k1, v1), (k2, v2) in zip(x.items(), y.items()):\n",
    "    print(k1, '->', v1)\n",
    "    print(k2, '->', v2)"
   ]
  },
  {
   "cell_type": "code",
   "execution_count": 5,
   "metadata": {},
   "outputs": [
    {
     "data": {
      "text/plain": [
       "dict_values([1, 2, 100])"
      ]
     },
     "execution_count": 5,
     "metadata": {},
     "output_type": "execute_result"
    }
   ],
   "source": [
    "x.values()"
   ]
  },
  {
   "cell_type": "code",
   "execution_count": 6,
   "metadata": {},
   "outputs": [],
   "source": [
    "import torch\n",
    "import torch.nn as nn\n",
    "import torch.nn.functional as F\n",
    "import numpy as np"
   ]
  },
  {
   "cell_type": "code",
   "execution_count": 7,
   "metadata": {},
   "outputs": [],
   "source": [
    "class ConvNet(nn.Module):\n",
    "    \"\"\"Small ConvNet for MNIST.\"\"\"\n",
    "\n",
    "    def __init__(self):\n",
    "        super(ConvNet, self).__init__()\n",
    "        self.conv1 = nn.Conv2d(1, 3, kernel_size=3)\n",
    "        self.fc = nn.Linear(192, 10)\n",
    "\n",
    "    def forward(self, x):\n",
    "        x = F.relu(F.max_pool2d(self.conv1(x), 3))\n",
    "        x = x.view(-1, 192)\n",
    "        x = self.fc(x)\n",
    "        return F.log_softmax(x, dim=1)\n",
    "\n",
    "    def get_weights(self):\n",
    "        return {k: v.cpu() for k, v in self.state_dict().items()}\n",
    "\n",
    "    def set_weights(self, weights):\n",
    "        self.load_state_dict(weights)\n",
    "\n",
    "    def get_gradients(self):\n",
    "        grads = []\n",
    "        for p in self.parameters():\n",
    "            grad = None if p.grad is None else p.grad.data.cpu().numpy()\n",
    "            grads.append(grad)\n",
    "        return grads\n",
    "\n",
    "    def set_gradients(self, gradients):\n",
    "        for g, p in zip(gradients, self.parameters()):\n",
    "            if g is not None:\n",
    "                p.grad = torch.from_numpy(g)"
   ]
  },
  {
   "cell_type": "code",
   "execution_count": 8,
   "metadata": {},
   "outputs": [],
   "source": [
    "model = ConvNet()\n",
    "weights = model.get_weights()"
   ]
  },
  {
   "cell_type": "code",
   "execution_count": 9,
   "metadata": {},
   "outputs": [
    {
     "data": {
      "text/plain": [
       "{'conv1.weight': tensor([[[[ 0.0697,  0.2799, -0.2646],\n",
       "           [ 0.1857, -0.3046,  0.1862],\n",
       "           [-0.1919, -0.0227, -0.0671]]],\n",
       " \n",
       " \n",
       "         [[[-0.1784, -0.2828, -0.1368],\n",
       "           [ 0.0521,  0.1293,  0.3012],\n",
       "           [ 0.0804, -0.0637, -0.3305]]],\n",
       " \n",
       " \n",
       "         [[[-0.2956, -0.2154, -0.2274],\n",
       "           [-0.1900,  0.0564,  0.0661],\n",
       "           [ 0.1543,  0.1837,  0.0622]]]]),\n",
       " 'conv1.bias': tensor([-0.1467,  0.2933, -0.1030]),\n",
       " 'fc.weight': tensor([[-0.0556,  0.0295, -0.0216,  ...,  0.0303, -0.0256,  0.0570],\n",
       "         [-0.0013, -0.0629,  0.0101,  ...,  0.0717,  0.0666,  0.0314],\n",
       "         [ 0.0526, -0.0664,  0.0565,  ..., -0.0065,  0.0113,  0.0228],\n",
       "         ...,\n",
       "         [-0.0384,  0.0517, -0.0336,  ...,  0.0551, -0.0412,  0.0564],\n",
       "         [-0.0365, -0.0295,  0.0581,  ..., -0.0689,  0.0439,  0.0636],\n",
       "         [ 0.0562, -0.0415, -0.0047,  ...,  0.0498,  0.0077, -0.0588]]),\n",
       " 'fc.bias': tensor([-4.7376e-02,  9.0204e-05,  5.1307e-04,  1.9474e-02, -5.4267e-02,\n",
       "          4.5011e-02, -3.0093e-02,  3.3104e-02,  8.1933e-03, -5.2673e-02])}"
      ]
     },
     "execution_count": 9,
     "metadata": {},
     "output_type": "execute_result"
    }
   ],
   "source": [
    "weights"
   ]
  },
  {
   "cell_type": "code",
   "execution_count": 8,
   "metadata": {},
   "outputs": [],
   "source": [
    "model_2 = ConvNet()\n",
    "weights_2 = model_2.get_weights()"
   ]
  },
  {
   "cell_type": "code",
   "execution_count": 40,
   "metadata": {},
   "outputs": [],
   "source": [
    "avg_weights=[\n",
    "    np.stack(weight_zip).mean(axis=0) for weight_zip in zip(weights.values(), weights.values(),weights_2.values())\n",
    "]"
   ]
  },
  {
   "cell_type": "code",
   "execution_count": 42,
   "metadata": {},
   "outputs": [
    {
     "ename": "TypeError",
     "evalue": "unsupported operand type(s) for +: 'dict_values' and 'dict_values'",
     "output_type": "error",
     "traceback": [
      "\u001b[0;31m---------------------------------------------------------------------------\u001b[0m",
      "\u001b[0;31mTypeError\u001b[0m                                 Traceback (most recent call last)",
      "\u001b[1;32m/Users/felicia/Desktop/aiap/federated-prototypes/examples/driver_fedmt.ipynb Cell 10\u001b[0m in \u001b[0;36m<cell line: 1>\u001b[0;34m()\u001b[0m\n\u001b[0;32m----> <a href='vscode-notebook-cell:/Users/felicia/Desktop/aiap/federated-prototypes/examples/driver_fedmt.ipynb#X24sZmlsZQ%3D%3D?line=0'>1</a>\u001b[0m weights\u001b[39m.\u001b[39;49mvalues() \u001b[39m+\u001b[39;49m weights_2\u001b[39m.\u001b[39;49mvalues()\n",
      "\u001b[0;31mTypeError\u001b[0m: unsupported operand type(s) for +: 'dict_values' and 'dict_values'"
     ]
    }
   ],
   "source": [
    "weights.values() + weights_2.values()\n"
   ]
  },
  {
   "cell_type": "code",
   "execution_count": 36,
   "metadata": {},
   "outputs": [
    {
     "name": "stdout",
     "output_type": "stream",
     "text": [
      "conv1.weight\n",
      "conv1.bias\n",
      "fc.weight\n",
      "fc.bias\n"
     ]
    }
   ],
   "source": [
    "for (a, b) in zip(weights, weights_2):\n",
    "    print(a)\n"
   ]
  },
  {
   "cell_type": "code",
   "execution_count": 13,
   "metadata": {},
   "outputs": [],
   "source": [
    "weights_list = list(weights.values())\n",
    "weights_list_2 = list(weights.values())\n"
   ]
  },
  {
   "cell_type": "code",
   "execution_count": 15,
   "metadata": {},
   "outputs": [
    {
     "data": {
      "text/plain": [
       "[tensor([[[[ 0.1122, -0.1233,  0.1355],\n",
       "           [ 0.1686,  0.1379, -0.2877],\n",
       "           [-0.1471, -0.0436,  0.3233]]],\n",
       " \n",
       " \n",
       "         [[[ 0.0156, -0.0496,  0.0201],\n",
       "           [ 0.1714,  0.1244,  0.1261],\n",
       "           [-0.1119, -0.2642, -0.0660]]],\n",
       " \n",
       " \n",
       "         [[[-0.2263, -0.3256,  0.1658],\n",
       "           [ 0.2643, -0.1028, -0.1537],\n",
       "           [-0.1774, -0.0497, -0.1669]]]]),\n",
       " tensor([-0.3119,  0.2038,  0.2731]),\n",
       " tensor([[-0.0557,  0.0502, -0.0681,  ...,  0.0500, -0.0609,  0.0313],\n",
       "         [-0.0537,  0.0382, -0.0603,  ..., -0.0465, -0.0625,  0.0523],\n",
       "         [ 0.0140,  0.0518, -0.0251,  ...,  0.0554, -0.0198,  0.0637],\n",
       "         ...,\n",
       "         [ 0.0088, -0.0371,  0.0335,  ...,  0.0271, -0.0005,  0.0646],\n",
       "         [ 0.0378, -0.0438,  0.0226,  ..., -0.0550, -0.0037,  0.0691],\n",
       "         [-0.0315, -0.0530, -0.0689,  ..., -0.0363,  0.0314,  0.0673]]),\n",
       " tensor([-0.0283, -0.0249, -0.0285,  0.0053,  0.0152,  0.0356, -0.0320,  0.0300,\n",
       "          0.0030,  0.0284])]"
      ]
     },
     "execution_count": 15,
     "metadata": {},
     "output_type": "execute_result"
    }
   ],
   "source": [
    "weights_list"
   ]
  },
  {
   "cell_type": "code",
   "execution_count": 18,
   "metadata": {},
   "outputs": [
    {
     "data": {
      "text/plain": [
       "[tensor([[[[ 0.2244, -0.2465,  0.2710],\n",
       "           [ 0.3372,  0.2758, -0.5754],\n",
       "           [-0.2941, -0.0872,  0.6466]]],\n",
       " \n",
       " \n",
       "         [[[ 0.0313, -0.0992,  0.0401],\n",
       "           [ 0.3428,  0.2488,  0.2522],\n",
       "           [-0.2238, -0.5283, -0.1321]]],\n",
       " \n",
       " \n",
       "         [[[-0.4526, -0.6511,  0.3316],\n",
       "           [ 0.5286, -0.2056, -0.3075],\n",
       "           [-0.3548, -0.0994, -0.3337]]]]),\n",
       " tensor([-0.6237,  0.4076,  0.5462]),\n",
       " tensor([[-0.1114,  0.1004, -0.1361,  ...,  0.0999, -0.1218,  0.0626],\n",
       "         [-0.1074,  0.0765, -0.1205,  ..., -0.0929, -0.1250,  0.1046],\n",
       "         [ 0.0279,  0.1036, -0.0502,  ...,  0.1107, -0.0395,  0.1273],\n",
       "         ...,\n",
       "         [ 0.0177, -0.0743,  0.0670,  ...,  0.0542, -0.0010,  0.1293],\n",
       "         [ 0.0756, -0.0877,  0.0452,  ..., -0.1100, -0.0074,  0.1382],\n",
       "         [-0.0630, -0.1059, -0.1379,  ..., -0.0726,  0.0628,  0.1347]]),\n",
       " tensor([-0.0565, -0.0497, -0.0570,  0.0105,  0.0303,  0.0713, -0.0641,  0.0600,\n",
       "          0.0060,  0.0568])]"
      ]
     },
     "execution_count": 18,
     "metadata": {},
     "output_type": "execute_result"
    }
   ],
   "source": [
    "[x + y for x, y in zip(weights_list, weights_list_2)]"
   ]
  },
  {
   "cell_type": "code",
   "execution_count": 16,
   "metadata": {},
   "outputs": [
    {
     "data": {
      "text/plain": [
       "{'conv1.weight': tensor([[[[ 0.4168,  0.0786, -0.1190],\n",
       "           [ 0.0263, -0.1865, -0.2876],\n",
       "           [-0.4637,  0.0598,  0.6468]]],\n",
       " \n",
       " \n",
       "         [[[-0.2435,  0.0211, -0.2942],\n",
       "           [ 0.1066,  0.1520,  0.1650],\n",
       "           [-0.1329, -0.4348, -0.1842]]],\n",
       " \n",
       " \n",
       "         [[[-0.2198, -0.4177,  0.1001],\n",
       "           [ 0.0080, -0.2221,  0.1665],\n",
       "           [-0.0753,  0.0858,  0.0601]]]]),\n",
       " 'conv1.bias': tensor([-0.4491,  0.5310,  0.4610]),\n",
       " 'fc.weight': tensor([[ 0.0095, -0.0138, -0.0585,  ...,  0.1200, -0.0516,  0.0795],\n",
       "         [-0.0438, -0.0075, -0.1087,  ..., -0.0917, -0.1291,  0.0614],\n",
       "         [-0.0517,  0.0248,  0.0452,  ...,  0.0042,  0.0377,  0.0359],\n",
       "         ...,\n",
       "         [-0.0167,  0.0139, -0.0207,  ..., -0.0304, -0.0037,  0.0665],\n",
       "         [ 0.0492, -0.0658,  0.0847,  ..., -0.0663, -0.0737,  0.0533],\n",
       "         [ 0.0223, -0.0585, -0.0406,  ...,  0.0106,  0.0867,  0.0306]]),\n",
       " 'fc.bias': tensor([-0.0791, -0.0605, -0.0802,  0.0547,  0.0185,  0.1013, -0.0881,  0.0934,\n",
       "          0.0527,  0.0131])}"
      ]
     },
     "execution_count": 16,
     "metadata": {},
     "output_type": "execute_result"
    }
   ],
   "source": [
    "{k: weights.get(k, 0) + weights_2.get(k, 0) for k in set(weights)}"
   ]
  },
  {
   "cell_type": "code",
   "execution_count": 4,
   "metadata": {},
   "outputs": [],
   "source": [
    "import heapq\n",
    "x = [2,1,3]\n",
    "heapq.heapify(x)\n",
    "# heapq.heappop(x)"
   ]
  },
  {
   "cell_type": "code",
   "execution_count": 5,
   "metadata": {},
   "outputs": [
    {
     "data": {
      "text/plain": [
       "[1, 2, 3]"
      ]
     },
     "execution_count": 5,
     "metadata": {},
     "output_type": "execute_result"
    }
   ],
   "source": [
    "x"
   ]
  },
  {
   "cell_type": "code",
   "execution_count": 6,
   "metadata": {},
   "outputs": [
    {
     "ename": "ValueError",
     "evalue": "min() arg is an empty sequence",
     "output_type": "error",
     "traceback": [
      "\u001b[1;31m---------------------------------------------------------------------------\u001b[0m",
      "\u001b[1;31mValueError\u001b[0m                                Traceback (most recent call last)",
      "Cell \u001b[1;32mIn[6], line 1\u001b[0m\n\u001b[1;32m----> 1\u001b[0m \u001b[39mmin\u001b[39;49m([])\n",
      "\u001b[1;31mValueError\u001b[0m: min() arg is an empty sequence"
     ]
    }
   ],
   "source": [
    "min([])"
   ]
  },
  {
   "cell_type": "code",
   "execution_count": 8,
   "metadata": {},
   "outputs": [],
   "source": [
    "x = [2,3,3,5]\n",
    "heapq.heapify(x)"
   ]
  },
  {
   "cell_type": "code",
   "execution_count": 9,
   "metadata": {},
   "outputs": [],
   "source": [
    "x.remove(3)"
   ]
  },
  {
   "cell_type": "code",
   "execution_count": 10,
   "metadata": {},
   "outputs": [
    {
     "data": {
      "text/plain": [
       "[2, 3, 5]"
      ]
     },
     "execution_count": 10,
     "metadata": {},
     "output_type": "execute_result"
    }
   ],
   "source": [
    "x"
   ]
  },
  {
   "cell_type": "code",
   "execution_count": null,
   "metadata": {},
   "outputs": [],
   "source": []
  }
 ],
 "metadata": {
  "kernelspec": {
   "display_name": "Python 3.9.5 ('ray395')",
   "language": "python",
   "name": "python3"
  },
  "language_info": {
   "codemirror_mode": {
    "name": "ipython",
    "version": 3
   },
   "file_extension": ".py",
   "mimetype": "text/x-python",
   "name": "python",
   "nbconvert_exporter": "python",
   "pygments_lexer": "ipython3",
   "version": "3.9.16"
  },
  "orig_nbformat": 4,
  "vscode": {
   "interpreter": {
    "hash": "119157014118ed5ce2a271513eb1100f16de813dd9dba3cdb62b99472382fd14"
   }
  }
 },
 "nbformat": 4,
 "nbformat_minor": 2
}
